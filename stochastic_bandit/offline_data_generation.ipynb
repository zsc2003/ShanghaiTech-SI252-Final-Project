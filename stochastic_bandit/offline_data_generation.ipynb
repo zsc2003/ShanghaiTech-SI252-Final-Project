{
 "cells": [
  {
   "cell_type": "markdown",
   "metadata": {},
   "source": [
    "## Offline trajectory generalization"
   ]
  },
  {
   "cell_type": "code",
   "execution_count": 1,
   "metadata": {},
   "outputs": [
    {
     "name": "stdout",
     "output_type": "stream",
     "text": [
      "Saved traj_20.npy with shape (100, 50, 2)\n"
     ]
    }
   ],
   "source": [
    "import numpy as np\n",
    "from pathlib import Path\n",
    "\n",
    "\n",
    "def UCB(theta_oracled, k):\n",
    "    count = np.zeros(k)\n",
    "    theta = np.zeros(k)\n",
    "    action = np.zeros(horizon)\n",
    "    reward = np.zeros(horizon)\n",
    "\n",
    "    for t in range(horizon):\n",
    "        # initialization\n",
    "        if t < k:\n",
    "            selected_arm = t\n",
    "        else:\n",
    "            selected_arm = np.argmax(theta + np.sqrt(2 * np.log(t) / count))\n",
    "\n",
    "        r_i = np.random.binomial(1, theta_oracled[selected_arm]) # r_i ~ Bern(theta_oracled[selected_arm])\n",
    "        count[selected_arm] += 1\n",
    "        theta[selected_arm] += 1 / count[selected_arm] * (r_i - theta[selected_arm])\n",
    "\n",
    "        action[t] = selected_arm\n",
    "        reward[t] = r_i\n",
    "\n",
    "    return action, reward\n",
    "\n",
    "\n",
    "def TS(theta_oracled, k):\n",
    "    count = np.zeros(k)\n",
    "    theta = np.zeros(k)\n",
    "    action = np.zeros(horizon)\n",
    "    reward = np.zeros(horizon)\n",
    "\n",
    "    alpha_beta = [(1, 1) for _ in range(k)]\n",
    "\n",
    "    for t in range(horizon):\n",
    "        for i in range(k):\n",
    "            alpha, beta = alpha_beta[i]\n",
    "            theta[i] = np.random.beta(alpha, beta) # theta[i] ~ Beta(alpha, beta)\n",
    "\n",
    "        selected_arm = np.argmax(theta)\n",
    "\n",
    "        r_i = np.random.binomial(1, theta_oracled[selected_arm]) # r_i ~ Bern(theta_oracled[selected_arm])\n",
    "        count[selected_arm] += 1\n",
    "        theta[selected_arm] += 1 / count[selected_arm] * (r_i - theta[selected_arm])\n",
    "        alpha_beta[selected_arm] = (alpha_beta[selected_arm][0] + r_i, alpha_beta[selected_arm][1] + 1 - r_i)\n",
    "\n",
    "        action[t] = selected_arm\n",
    "        reward[t] = r_i\n",
    "\n",
    "    return action, reward\n",
    "\n",
    "\n",
    "n_traj: int = 100                 # number of trajectories\n",
    "horizon: int = 50                 # steps per trajectory\n",
    "\n",
    "def generate_dataset(n_traj: int, horizon: int, k) -> np.ndarray:\n",
    "    \"\"\"Return ndarray (n_traj, horizon, 2) containing (action, reward) pairs.\"\"\"\n",
    "    output_path: Path = Path(f\"traj_{k}.npy\")\n",
    "    if k == 5:\n",
    "        theta_oracled = np.array([0.2, 0.4, 0.6, 0.7, 0.8])\n",
    "    elif k == 10:\n",
    "        theta_oracled = np.array([0.2, 0.3, 0.4, 0.5, 0.6, 0.65, 0.7, 0.75, 0.8, 0.9])\n",
    "    elif k == 20:\n",
    "        theta_oracled = np.array([0.35, 0.35, 0.35, 0.35, 0.35, 0.4, 0.4, 0.4, 0.4, 0.4, 0.45, 0.5, 0.55, 0.6, 0.65, 0.7, 0.75, 0.8, 0.85, 0.9])\n",
    "        # theta_oracled = np.array([0.1, 0.2, 0.3, 0.4, 0.5, 0.6, 0.7, 0.8, 0.84, 0.85, 0.86, 0.87, 0.88, 0.89, 0.9, 0.91, 0.92, 0.93, 0.94, 0.95])\n",
    "    else:\n",
    "        theta_oracled = np.random.uniform(0, 1, k)\n",
    "\n",
    "\n",
    "    # use UCB, TS to generate trajectories\n",
    "    data = np.empty((n_traj, horizon, 2), dtype=np.float64)\n",
    "    for i in range(n_traj):\n",
    "        # a, r = UCB(theta_oracled, k)\n",
    "        # data[i * 2, :, 0] = a\n",
    "        # data[i * 2, :, 1] = r\n",
    "        a, r = TS(theta_oracled, k)\n",
    "        data[i, :, 0] = a\n",
    "        data[i, :, 1] = r\n",
    "\n",
    "    np.save(output_path, data)\n",
    "    print(f'Saved {output_path} with shape {data.shape}')\n",
    "\n",
    "# K = [5, 10, 20]\n",
    "K = [20]\n",
    "# K = [5]\n",
    "\n",
    "for k in K:\n",
    "    generate_dataset(n_traj, horizon, k)"
   ]
  }
 ],
 "metadata": {
  "kernelspec": {
   "display_name": "RL",
   "language": "python",
   "name": "python3"
  },
  "language_info": {
   "codemirror_mode": {
    "name": "ipython",
    "version": 3
   },
   "file_extension": ".py",
   "mimetype": "text/x-python",
   "name": "python",
   "nbconvert_exporter": "python",
   "pygments_lexer": "ipython3",
   "version": "3.10.16"
  }
 },
 "nbformat": 4,
 "nbformat_minor": 2
}
