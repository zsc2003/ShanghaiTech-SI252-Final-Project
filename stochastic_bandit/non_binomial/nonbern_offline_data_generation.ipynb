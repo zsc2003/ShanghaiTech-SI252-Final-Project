{
 "cells": [
  {
   "cell_type": "markdown",
   "metadata": {},
   "source": [
    "## Offline trajectory generalization"
   ]
  },
  {
   "cell_type": "code",
   "execution_count": 1,
   "metadata": {},
   "outputs": [
    {
     "name": "stdout",
     "output_type": "stream",
     "text": [
      "Saved traj_25_nonbern.npy with shape (100, 50, 2)\n"
     ]
    }
   ],
   "source": [
    "import numpy as np\n",
    "from pathlib import Path\n",
    "from nonbern_bandit_algorithms import get_reward\n",
    "\n",
    "def UCB(theta_oracled, k):\n",
    "    count = np.zeros(k)\n",
    "    theta = np.zeros(k)\n",
    "    action = np.zeros(horizon)\n",
    "    reward = np.zeros(horizon)\n",
    "\n",
    "    for t in range(horizon):\n",
    "        # initialization\n",
    "        if t < k:\n",
    "            selected_arm = t\n",
    "        else:\n",
    "            selected_arm = np.argmax(theta + np.sqrt(2 * np.log(t) / count))\n",
    "\n",
    "        r_i = get_reward(theta_oracled[selected_arm])\n",
    "\n",
    "        count[selected_arm] += 1\n",
    "        theta[selected_arm] += 1 / count[selected_arm] * (r_i - theta[selected_arm])\n",
    "\n",
    "        action[t] = selected_arm\n",
    "        reward[t] = r_i\n",
    "\n",
    "    return action, reward\n",
    "\n",
    "\n",
    "\n",
    "n_traj: int = 100                 # number of trajectories\n",
    "horizon: int = 50                 # steps per trajectory\n",
    "\n",
    "def generate_dataset(n_traj: int, horizon: int, k) -> np.ndarray:\n",
    "    \"\"\"Return ndarray (n_traj, horizon, 2) containing (action, reward) pairs.\"\"\"\n",
    "    output_path: Path = Path(f\"traj_{k}_nonbern.npy\")\n",
    "\n",
    "\n",
    "    theta_oracled_20_arm = [(0.85,0.1),(0.8,0.1),(0.75,0.1),(0.7,0.1),(0.65,0.1),(0.6,0.1),(0.55,0.1),(0.5,0.1),(0.45,0.1),(0.4,0.1),(0.35,0.15),(0.3,0.15),(0.25,0.15),(0.2,0.15),(0.15,0.15),(0.1,0.15),(0.08,0.12),(0.06,0.1),(0.04,0.08),(0.02,0.06)]\n",
    "\n",
    "    theta_oracled_25_arm = [(0.88,0.07),(0.85,0.07),(0.82,0.07),(0.79,0.07),(0.76,0.07),(0.73,0.07),(0.7,0.1),(0.67,0.1),(0.64,0.1),(0.61,0.1),(0.58,0.1),(0.55,0.1),(0.52,0.1),(0.49,0.1),(0.46,0.1),(0.43,0.1),(0.4,0.15),(0.35,0.15),(0.3,0.15),(0.25,0.15),(0.2,0.15),(0.15,0.15),(0.1,0.1),(0.06,0.08),(0.03,0.05)]\n",
    "\n",
    "    theta_oracled_30_arm = [(0.9,0.05),(0.87,0.05),(0.84,0.05),(0.81,0.05),(0.78,0.05),(0.75,0.05),(0.72,0.05),(0.69,0.07),(0.66,0.07),(0.63,0.07),(0.6,0.07),(0.57,0.07),(0.54,0.07),(0.51,0.07),(0.48,0.1),(0.45,0.1),(0.42,0.1),(0.39,0.1),(0.36,0.1),(0.33,0.1),(0.3,0.1),(0.27,0.1),(0.24,0.1),(0.21,0.1),(0.18,0.1),(0.15,0.1),(0.12,0.08),(0.09,0.08),(0.06,0.06),(0.03,0.04)]\n",
    "\n",
    "\n",
    "\n",
    "    if k == 20:\n",
    "        theta_oracled = np.array(theta_oracled_20_arm)\n",
    "    elif k == 25:\n",
    "        theta_oracled = np.array(theta_oracled_25_arm)\n",
    "    elif k == 30:\n",
    "        theta_oracled = np.array(theta_oracled_30_arm)\n",
    "    else:\n",
    "        theta_oracled = np.random.uniform(0, 1, k)\n",
    "\n",
    "\n",
    "    # use UCB to generate trajectories\n",
    "    data = np.empty((n_traj, horizon, 2), dtype=np.float64)\n",
    "    for i in range(n_traj):\n",
    "        a, r = UCB(theta_oracled, k)\n",
    "        data[i, :, 0] = a\n",
    "        data[i, :, 1] = r\n",
    "\n",
    "\n",
    "    np.save(output_path, data)\n",
    "    print(f'Saved {output_path} with shape {data.shape}')\n",
    "\n",
    "# K = [20, 25, 30]\n",
    "K = [25]\n",
    "\n",
    "for k in K:\n",
    "    generate_dataset(n_traj, horizon, k)"
   ]
  }
 ],
 "metadata": {
  "kernelspec": {
   "display_name": "RL",
   "language": "python",
   "name": "python3"
  },
  "language_info": {
   "codemirror_mode": {
    "name": "ipython",
    "version": 3
   },
   "file_extension": ".py",
   "mimetype": "text/x-python",
   "name": "python",
   "nbconvert_exporter": "python",
   "pygments_lexer": "ipython3",
   "version": "3.10.16"
  }
 },
 "nbformat": 4,
 "nbformat_minor": 2
}
